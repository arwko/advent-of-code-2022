{
 "cells": [
  {
   "cell_type": "code",
   "execution_count": 5,
   "metadata": {},
   "outputs": [
    {
     "name": "stdout",
     "output_type": "stream",
     "text": [
      "10595\n",
      "9541\n"
     ]
    }
   ],
   "source": [
    "def calc_val1(row):\n",
    "    vals = [3, 6, 0]\n",
    "    return [vals[(i-'ABC'.index(row[0])) % len(vals)] for i,x in enumerate(vals)]['XYZ'.index(row[1])] + 'XYZ'.index(row[1]) + 1\n",
    "\n",
    "def calc_val2(row):\n",
    "    valsA = [3, 1, 2]\n",
    "    valsB = [1, 2, 3]\n",
    "    return 3*('XYZ'.index(row[1])) + [valsA[(i+'ABC'.index(row[0])) % len(valsA)] for i,x in enumerate(valsA)]['XYZ'.index(row[1])] \n",
    "\n",
    "# With list comprehension\n",
    "print(sum([calc_val1(x.split(' ')) for x in open('input/day-two.inp').read().split('\\n') if x]))\n",
    "print(sum([calc_val2(x.split(' ')) for x in open('input/day-two.inp').read().split('\\n') if x]))\n",
    "\n",
    "\n",
    "# point_sum = 0\n",
    "# for x in open('input/day-two.inp').read().split('\\n'):\n",
    "#     if (x):\n",
    "#         point_sum += calc_val(x.split(' '))\n",
    "\n",
    "# print(point_sum)"
   ]
  },
  {
   "cell_type": "code",
   "execution_count": null,
   "metadata": {},
   "outputs": [],
   "source": [
    "print('ABC'.index('B'))"
   ]
  }
 ],
 "metadata": {
  "kernelspec": {
   "display_name": "Python 3.10.8 ('aoc')",
   "language": "python",
   "name": "python3"
  },
  "language_info": {
   "codemirror_mode": {
    "name": "ipython",
    "version": 3
   },
   "file_extension": ".py",
   "mimetype": "text/x-python",
   "name": "python",
   "nbconvert_exporter": "python",
   "pygments_lexer": "ipython3",
   "version": "3.10.8"
  },
  "orig_nbformat": 4,
  "vscode": {
   "interpreter": {
    "hash": "a73294bc487596fd64a2aa41360c3b2d20de0e7b14d6a2a46958e1eae26a16c5"
   }
  }
 },
 "nbformat": 4,
 "nbformat_minor": 2
}
