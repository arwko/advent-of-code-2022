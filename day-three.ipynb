{
 "cells": [
  {
   "cell_type": "code",
   "execution_count": null,
   "metadata": {},
   "outputs": [],
   "source": [
    "items = \"abcdefghijklmnopqrstuvwxyzABCDEFGHIJKLMNOPQRSTUVWXYZ\"\n",
    "\n"
   ]
  },
  {
   "cell_type": "code",
   "execution_count": null,
   "metadata": {},
   "outputs": [],
   "source": [
    "# Part one\n",
    "sum_val = 0\n",
    "with open('input/day-three.inp') as temp_file:\n",
    "    rucksack = [line.rstrip() for line in temp_file]\n",
    "    for line in rucksack:\n",
    "        duplicate = list(set(line[0:len(line)//2]) & set(line[len(line)//2:]))[0]\n",
    "        sum_val += items.index(duplicate) + 1\n",
    "\n",
    "print(sum_val)"
   ]
  },
  {
   "cell_type": "code",
   "execution_count": null,
   "metadata": {},
   "outputs": [],
   "source": [
    "# Part two\n",
    "sum_val = 0\n",
    "with open('input/day-three.inp') as temp_file:\n",
    "    rucksack = [line.rstrip() for line in temp_file]\n",
    "    for i in range(0,len(rucksack),3):\n",
    "        badge = list(set(rucksack[i]) & set(rucksack[i+1]) & set(rucksack[i+2]))[0]\n",
    "        sum_val += items.index(badge) + 1\n",
    "\n",
    "print(sum_val)"
   ]
  }
 ],
 "metadata": {
  "kernelspec": {
   "display_name": "Python 3.10.8 ('aoc')",
   "language": "python",
   "name": "python3"
  },
  "language_info": {
   "codemirror_mode": {
    "name": "ipython",
    "version": 3
   },
   "file_extension": ".py",
   "mimetype": "text/x-python",
   "name": "python",
   "nbconvert_exporter": "python",
   "pygments_lexer": "ipython3",
   "version": "3.10.8"
  },
  "orig_nbformat": 4,
  "vscode": {
   "interpreter": {
    "hash": "a73294bc487596fd64a2aa41360c3b2d20de0e7b14d6a2a46958e1eae26a16c5"
   }
  }
 },
 "nbformat": 4,
 "nbformat_minor": 2
}
